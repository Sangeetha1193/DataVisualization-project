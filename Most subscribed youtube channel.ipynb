{
 "cells": [
  {
   "cell_type": "code",
   "execution_count": null,
   "id": "edacf2a9-935b-45ef-925b-16b28a726463",
   "metadata": {},
   "outputs": [],
   "source": [
    "import pandas as pd"
   ]
  },
  {
   "cell_type": "code",
   "execution_count": null,
   "id": "e369d23c-7ebe-48ff-8f09-f9183caa53d9",
   "metadata": {},
   "outputs": [],
   "source": [
    "youtube_channel_df = pd.read_csv('Most Subscribed YouTube Channels_exported.csv')"
   ]
  },
  {
   "cell_type": "code",
   "execution_count": null,
   "id": "6dbefd53-a215-43e6-a317-6f4fd0b27f74",
   "metadata": {},
   "outputs": [],
   "source": [
    "type(youtube_channel_df)"
   ]
  },
  {
   "cell_type": "code",
   "execution_count": null,
   "id": "a1803495-a7e5-49a3-8905-bf5929584c06",
   "metadata": {},
   "outputs": [],
   "source": [
    "pd.set_option('display.max_columns',7)"
   ]
  },
  {
   "cell_type": "code",
   "execution_count": null,
   "id": "62219081-b33a-4224-b76f-2e780e054768",
   "metadata": {},
   "outputs": [],
   "source": [
    "youtube_channel_df.head(5)"
   ]
  },
  {
   "cell_type": "code",
   "execution_count": null,
   "id": "7c41299d-56bb-4fbd-806e-d6b9f3762bf1",
   "metadata": {},
   "outputs": [],
   "source": [
    "youtube_channel_df.head(5).transpose()"
   ]
  },
  {
   "cell_type": "code",
   "execution_count": null,
   "id": "030d21d2-8978-47bf-b59e-66297a3ee7cb",
   "metadata": {},
   "outputs": [],
   "source": [
    "youtube_channel_df[:-5]"
   ]
  },
  {
   "cell_type": "code",
   "execution_count": null,
   "id": "18271cf4-de39-4248-80b6-847252466aef",
   "metadata": {},
   "outputs": [],
   "source": [
    "#Slicing And Indexing"
   ]
  },
  {
   "cell_type": "code",
   "execution_count": null,
   "id": "84bcd270-957b-47b8-a380-da4f6e739f5e",
   "metadata": {},
   "outputs": [],
   "source": [
    "youtube_channel_df['Primary language'][0:5]"
   ]
  },
  {
   "cell_type": "code",
   "execution_count": null,
   "id": "b1de808c-fac2-4280-b22c-d547e4c91032",
   "metadata": {},
   "outputs": [],
   "source": [
    "youtube_channel_df.iloc[4:9,1:4]"
   ]
  },
  {
   "cell_type": "code",
   "execution_count": null,
   "id": "baac93f4-30c2-4f20-8a45-4a1c8e2cafbe",
   "metadata": {},
   "outputs": [],
   "source": [
    "###Value Counts"
   ]
  },
  {
   "cell_type": "code",
   "execution_count": null,
   "id": "b2fa1ffb-429a-4112-9036-9b63eeba9817",
   "metadata": {},
   "outputs": [],
   "source": [
    "youtube_channel_df.Category.value_counts()"
   ]
  },
  {
   "cell_type": "code",
   "execution_count": null,
   "id": "2c583cc3-4dc0-4bbc-b112-57268e2477f5",
   "metadata": {},
   "outputs": [],
   "source": [
    "youtube_channel_df.Category.value_counts(normalize = True)*100"
   ]
  },
  {
   "cell_type": "code",
   "execution_count": null,
   "id": "4c4d8bb0-327e-42e5-a4a9-23eb171e4f2e",
   "metadata": {},
   "outputs": [],
   "source": [
    "###cross Tabulation"
   ]
  },
  {
   "cell_type": "code",
   "execution_count": null,
   "id": "3f9c14ce-be0d-4757-a7cf-2fb0a720afb6",
   "metadata": {},
   "outputs": [],
   "source": [
    "pd.crosstab(youtube_channel_df['Primary language'],youtube_channel_df['Category'])"
   ]
  },
  {
   "cell_type": "code",
   "execution_count": null,
   "id": "7a971c6c-b933-488b-9802-d4bd3cf4f833",
   "metadata": {},
   "outputs": [],
   "source": [
    "#Sorting the dataset"
   ]
  },
  {
   "cell_type": "code",
   "execution_count": null,
   "id": "97c5cded-cd01-49b5-a081-6411814d2057",
   "metadata": {},
   "outputs": [],
   "source": [
    "youtube_channel_df[['Name','Subscribers (millions)']].sort_values(by='Subscribers (millions)', ascending=False).head(5)"
   ]
  },
  {
   "cell_type": "code",
   "execution_count": null,
   "id": "82e16218-b6a0-4d2d-823e-ee8fca845609",
   "metadata": {},
   "outputs": [],
   "source": [
    "##creating column"
   ]
  },
  {
   "cell_type": "code",
   "execution_count": null,
   "id": "6c0b59dc-9f4d-48f6-ab32-48880dcf0587",
   "metadata": {},
   "outputs": [],
   "source": [
    "import numpy as np\n",
    "\n",
    "youtube_channel_df['Monetization Potential'] = youtube_channel_df['Subscribers (millions)'] * np.where(\n",
    "    youtube_channel_df['Brand channel'] == 'Yes', 1.5, 1\n",
    ")"
   ]
  },
  {
   "cell_type": "code",
   "execution_count": null,
   "id": "c40d8881-cf00-42ae-8cee-ed0292f61645",
   "metadata": {},
   "outputs": [],
   "source": [
    "#data Aggregation"
   ]
  },
  {
   "cell_type": "code",
   "execution_count": null,
   "id": "30de19d3-c014-48f2-accb-e0f279f7df8c",
   "metadata": {},
   "outputs": [],
   "source": [
    "youtube_channel_df.groupby(['Category', 'Brand channel'])['Subscribers (millions)'].mean()\n"
   ]
  },
  {
   "cell_type": "code",
   "execution_count": null,
   "id": "1fec91fb-50b8-4159-9351-035c50be6d6a",
   "metadata": {},
   "outputs": [],
   "source": [
    "subscribers_by_category = youtube_channel_df.groupby(['Category','Brand channel'])['Subscribers (millions)'].mean().reset_index()"
   ]
  },
  {
   "cell_type": "code",
   "execution_count": null,
   "id": "14ac3fef-0fa3-4203-b521-d6b2e27148dc",
   "metadata": {},
   "outputs": [],
   "source": [
    "subscribers_by_category"
   ]
  },
  {
   "cell_type": "code",
   "execution_count": null,
   "id": "6177d561-5fda-45e9-88db-538061a53dea",
   "metadata": {},
   "outputs": [],
   "source": [
    "subscribers_by_category_language = youtube_channel_df.groupby(['Category','Primary language'])['Subscribers (millions)'].mean().reset_index()"
   ]
  },
  {
   "cell_type": "code",
   "execution_count": null,
   "id": "31aea22a-bc5e-414b-abdb-1a21d36b5db1",
   "metadata": {},
   "outputs": [],
   "source": [
    "subscribers_by_category_language"
   ]
  },
  {
   "cell_type": "code",
   "execution_count": null,
   "id": "b14ba969-1417-422b-bf16-6414a5061c6f",
   "metadata": {},
   "outputs": [],
   "source": [
    "subscribers_by_category_language_country = youtube_channel_df.groupby(['Category','Primary language','Country'])['Subscribers (millions)'].mean().reset_index()"
   ]
  },
  {
   "cell_type": "code",
   "execution_count": null,
   "id": "41b28152-426b-4aad-b82a-bf93f0a0e1cd",
   "metadata": {},
   "outputs": [],
   "source": [
    "subscribers_by_category_language_country"
   ]
  },
  {
   "cell_type": "code",
   "execution_count": null,
   "id": "a3d5a7f8-5e35-4d1e-b577-1dc3fda4ba09",
   "metadata": {},
   "outputs": [],
   "source": [
    "#Joining the dataframes"
   ]
  },
  {
   "cell_type": "code",
   "execution_count": null,
   "id": "31c15223-369b-46f7-8db9-90af9fed5bc0",
   "metadata": {},
   "outputs": [],
   "source": [
    "subscribers_comparison = subscribers_by_category_language_country.merge (subscribers_by_category, on = 'Category', how = 'outer')"
   ]
  },
  {
   "cell_type": "code",
   "execution_count": null,
   "id": "a2777ace-1396-47ea-b2ed-d56e5830ff4d",
   "metadata": {},
   "outputs": [],
   "source": [
    "subscribers_comparison "
   ]
  },
  {
   "cell_type": "code",
   "execution_count": null,
   "id": "3889799a-489f-4c8d-b728-0c3631b6b75e",
   "metadata": {},
   "outputs": [],
   "source": [
    "# renaming column name"
   ]
  },
  {
   "cell_type": "code",
   "execution_count": null,
   "id": "bde7102e-6299-423c-8bce-07112c35f207",
   "metadata": {},
   "outputs": [],
   "source": [
    "subscribers_comparison.rename (columns = {'Subscribers (millions)_x':'Subscribers (millions)_category_language','Subscribers (millions)_y':'Subscribers (millions)_category'}, inplace = True)\n",
    "subscribers_comparison.head(5)"
   ]
  },
  {
   "cell_type": "code",
   "execution_count": null,
   "id": "803f388c-031c-4f52-8b08-98702e90523e",
   "metadata": {},
   "outputs": [],
   "source": [
    "#Filtering Based on Multiple Conditions Across Different Columns"
   ]
  },
  {
   "cell_type": "code",
   "execution_count": null,
   "id": "263dde96-1211-4cc8-995d-3772c19e1e03",
   "metadata": {},
   "outputs": [],
   "source": [
    "youtube_channel_df[(youtube_channel_df['Subscribers (millions)'] > 100) & \n",
    "                   (youtube_channel_df['Category'] == 'Music') & \n",
    "                   (youtube_channel_df['Country'] == 'India')]"
   ]
  },
  {
   "cell_type": "code",
   "execution_count": null,
   "id": "4c6cf0ce-1b8c-406e-a8f3-ad0074cf3c58",
   "metadata": {},
   "outputs": [],
   "source": [
    "#Using Lambda Functions for Custom Filters"
   ]
  },
  {
   "cell_type": "code",
   "execution_count": null,
   "id": "8dceb4a6-1c6a-4f34-b743-1978e592d59d",
   "metadata": {},
   "outputs": [],
   "source": [
    "youtube_channel_df[youtube_channel_df['Subscribers (millions)'].apply(lambda x: x > 70 and x < 150)]"
   ]
  },
  {
   "cell_type": "code",
   "execution_count": null,
   "id": "a9bcbff2-bf1e-4f19-84f3-810a405c7952",
   "metadata": {},
   "outputs": [],
   "source": [
    "#identifying channels with exceptional metrics"
   ]
  },
  {
   "cell_type": "code",
   "execution_count": null,
   "id": "e1c82158-cfc2-43f4-b53d-3ffe8d394188",
   "metadata": {},
   "outputs": [],
   "source": [
    "top_10_percent = youtube_channel_df['Subscribers (millions)'].quantile(0.9)\n",
    "youtube_channel_df[youtube_channel_df['Subscribers (millions)'] > top_10_percent]"
   ]
  },
  {
   "cell_type": "code",
   "execution_count": null,
   "id": "92deb18c-78cc-47aa-9e0e-21dbb7cc49b2",
   "metadata": {},
   "outputs": [],
   "source": [
    "#Filtering in single line"
   ]
  },
  {
   "cell_type": "code",
   "execution_count": null,
   "id": "01475b1e-81e9-4b67-8b14-a39ceb89020c",
   "metadata": {},
   "outputs": [],
   "source": [
    "youtube_channel_df[youtube_channel_df['Subscribers (millions)'] > 50].query(\"Category == 'Music'\").groupby('Country').sum().sort_values(by='Subscribers (millions)', ascending=False)"
   ]
  },
  {
   "cell_type": "code",
   "execution_count": null,
   "id": "939c6257-06cc-483a-a150-53b47d461739",
   "metadata": {},
   "outputs": [],
   "source": [
    "import matplotlib.pyplot as plt\n",
    "import seaborn as sn\n",
    "%matplotlib inline"
   ]
  },
  {
   "cell_type": "code",
   "execution_count": null,
   "id": "9ecbbe11-6773-4159-b2aa-c6f0c77b294d",
   "metadata": {},
   "outputs": [],
   "source": [
    "subscribers_by_category"
   ]
  },
  {
   "cell_type": "code",
   "execution_count": null,
   "id": "0e00dc86-51a0-4da6-833c-b0e379b10b74",
   "metadata": {},
   "outputs": [],
   "source": [
    "sn.barplot(x='Category', y='Subscribers (millions)',hue = 'Brand channel', data=subscribers_by_category)\n",
    "plt.title(\"Subscribers by Category (Branded vs Non-Branded)\")\n",
    "plt.xlabel(\"Category\")\n",
    "plt.ylabel(\"Subscribers (millions)\")\n",
    "plt.legend(title=\"Brand Channel\")\n",
    "plt.xticks(rotation=45)\n",
    "plt.show()\n"
   ]
  },
  {
   "cell_type": "code",
   "execution_count": null,
   "id": "2afb1251-18d7-47b1-b6c3-c8f810b09d77",
   "metadata": {},
   "outputs": [],
   "source": [
    "#Histogram"
   ]
  },
  {
   "cell_type": "code",
   "execution_count": null,
   "id": "817e27e2-212a-40a9-ad47-1998d9c7066d",
   "metadata": {
    "scrolled": true
   },
   "outputs": [],
   "source": [
    "plt.hist(youtube_channel_df['Subscribers (millions)']);\n",
    "plt.show();"
   ]
  },
  {
   "cell_type": "code",
   "execution_count": null,
   "id": "a8cd1510-31af-4bd6-80bf-b687e09e5992",
   "metadata": {
    "scrolled": true
   },
   "outputs": [],
   "source": [
    "#Distrubution plot\n",
    "sn.distplot(youtube_channel_df['Subscribers (millions)']);"
   ]
  },
  {
   "cell_type": "code",
   "execution_count": null,
   "id": "c4528bd8-7f67-4975-af90-f5a574d3ed9e",
   "metadata": {},
   "outputs": [],
   "source": [
    "plt.show();"
   ]
  },
  {
   "cell_type": "code",
   "execution_count": null,
   "id": "caf189d1-6413-4761-8c58-c7cdf23d8cc5",
   "metadata": {},
   "outputs": [],
   "source": [
    "#Box Plot"
   ]
  },
  {
   "cell_type": "code",
   "execution_count": null,
   "id": "90f7df13-b660-4694-a519-97bf613cd9dc",
   "metadata": {},
   "outputs": [],
   "source": [
    "Box = sn.boxplot(youtube_channel_df['Subscribers (millions)']);"
   ]
  },
  {
   "cell_type": "code",
   "execution_count": null,
   "id": "43e1c58b-12e7-41a4-8b6b-b0e0ddb0df43",
   "metadata": {},
   "outputs": [],
   "source": [
    "plt.show();"
   ]
  },
  {
   "cell_type": "code",
   "execution_count": null,
   "id": "507b0881-d819-4ae9-b45a-42db13b36db1",
   "metadata": {},
   "outputs": [],
   "source": [
    "[item.get_ydata()[0] for item in Box ['caps']]"
   ]
  },
  {
   "cell_type": "code",
   "execution_count": null,
   "id": "7d28615f-2419-4505-bdc0-324beca9f9ff",
   "metadata": {},
   "outputs": [],
   "source": [
    "[item.get_ydata()[0] for item in Box ['whiskers']]"
   ]
  },
  {
   "cell_type": "code",
   "execution_count": null,
   "id": "0b89ac16-a557-41cd-a147-791df3622cbf",
   "metadata": {},
   "outputs": [],
   "source": [
    "[item.get_ydata() [0] for item in Box ['medians']]"
   ]
  },
  {
   "cell_type": "code",
   "execution_count": null,
   "id": "65b35075-26d2-4027-9632-ab7397226fba",
   "metadata": {},
   "outputs": [],
   "source": [
    "# Scatter plot\n",
    "plt.scatter(x = youtube_channel_df.Category, y = youtube_channel_df['Subscribers (millions)']);\n",
    "plt.xticks(rotation = 45);\n",
    "plt.show();"
   ]
  },
  {
   "cell_type": "code",
   "execution_count": null,
   "id": "5e712557-b6ae-4d94-9870-942911dd6f8b",
   "metadata": {},
   "outputs": [],
   "source": [
    "# Convert 'Category' to numerical values\n",
    "subscribers_by_category['Category_encoded'] = subscribers_by_category['Category'].astype('category').cat.codes\n",
    "subscribers_by_category[['Category', 'Category_encoded']].head()\n"
   ]
  },
  {
   "cell_type": "code",
   "execution_count": null,
   "id": "62a7f927-5854-47b0-8fc7-1848c1463610",
   "metadata": {},
   "outputs": [],
   "source": [
    "sn.regplot(x='Category_encoded', \n",
    "           y='Subscribers (millions)', \n",
    "           data = subscribers_by_category); \n",
    "plt.xticks(rotation = 45);\n",
    "plt.show();"
   ]
  },
  {
   "cell_type": "code",
   "execution_count": null,
   "id": "c4f9cf5f-73d9-4909-93ac-051dbe18a013",
   "metadata": {},
   "outputs": [],
   "source": [
    "#pie chart"
   ]
  },
  {
   "cell_type": "code",
   "execution_count": null,
   "id": "7258aeaa-7f1b-4c3d-9f65-628fee890eb3",
   "metadata": {},
   "outputs": [],
   "source": [
    "subscribers_by_category.groupby('Category')['Subscribers (millions)'].sum().plot(kind='pie', autopct='%1.1f%%')\n",
    "plt.title(\"Subscribers Distribution by Category\")\n",
    "plt.ylabel(\"\")  # Remove default label\n",
    "plt.show()\n"
   ]
  },
  {
   "cell_type": "code",
   "execution_count": null,
   "id": "6c384b53-ea03-4075-b3b3-bd4a071d46a8",
   "metadata": {},
   "outputs": [],
   "source": [
    "#line plot"
   ]
  },
  {
   "cell_type": "code",
   "execution_count": null,
   "id": "9375987d-a7bb-4a84-b1f1-7d1c680ed404",
   "metadata": {},
   "outputs": [],
   "source": [
    "sorted_data = subscribers_by_category.sort_values('Subscribers (millions)', ascending=False)\n",
    "plt.plot(sorted_data['Category'], sorted_data['Subscribers (millions)'], marker='o', color='c')\n",
    "plt.title(\"Subscribers Trends by Category\")\n",
    "plt.xticks(rotation=45)\n",
    "plt.xlabel(\"Category\")\n",
    "plt.ylabel(\"Subscribers (millions)\")\n",
    "plt.show()\n"
   ]
  },
  {
   "cell_type": "code",
   "execution_count": null,
   "id": "ee76686d-3e93-4466-afe6-55448973da3d",
   "metadata": {},
   "outputs": [],
   "source": []
  },
  {
   "cell_type": "code",
   "execution_count": null,
   "id": "11072e58-15f0-4cba-a8de-e808d5256c3a",
   "metadata": {},
   "outputs": [],
   "source": [
    "plt.scatter(x=subscribers_by_category['Category_encoded'], y=subscribers_by_category['Subscribers (millions)'],\n",
    "            s=subscribers_by_category['Subscribers (millions)']*10, alpha=1)\n",
    "plt.title(\"Bubble Chart of Category vs Subscribers\")\n",
    "plt.xlabel(\"Encoded Category\")\n",
    "plt.ylabel(\"Subscribers (millions)\")\n",
    "plt.show()\n"
   ]
  },
  {
   "cell_type": "code",
   "execution_count": null,
   "id": "9996ff98-4b50-49ad-a759-52336e1fcd29",
   "metadata": {},
   "outputs": [],
   "source": [
    "#heat map"
   ]
  },
  {
   "cell_type": "code",
   "execution_count": null,
   "id": "c265cd12-6f5f-407b-bb6a-fd70cb006dd6",
   "metadata": {},
   "outputs": [],
   "source": [
    "correlation_matrix = subscribers_by_category[['Subscribers (millions)', 'Category_encoded']].corr()\n",
    "sn.heatmap(correlation_matrix, annot=True)\n",
    "plt.title(\"Correlation Heatmap\")\n",
    "plt.show()\n"
   ]
  },
  {
   "cell_type": "code",
   "execution_count": null,
   "id": "67c98d13-dc03-4ef2-850c-4d152b442aa0",
   "metadata": {},
   "outputs": [],
   "source": []
  }
 ],
 "metadata": {
  "kernelspec": {
   "display_name": "Python 3 (ipykernel)",
   "language": "python",
   "name": "python3"
  },
  "language_info": {
   "codemirror_mode": {
    "name": "ipython",
    "version": 3
   },
   "file_extension": ".py",
   "mimetype": "text/x-python",
   "name": "python",
   "nbconvert_exporter": "python",
   "pygments_lexer": "ipython3",
   "version": "3.12.7"
  }
 },
 "nbformat": 4,
 "nbformat_minor": 5
}
